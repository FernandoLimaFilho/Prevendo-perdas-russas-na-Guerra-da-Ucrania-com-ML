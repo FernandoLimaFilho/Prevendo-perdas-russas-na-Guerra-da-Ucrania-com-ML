{
 "cells": [
  {
   "cell_type": "markdown",
   "id": "fde2dd6b",
   "metadata": {},
   "source": [
    "# $\\color{orange}{\\textbf{Importando as bibliotecas}}$"
   ]
  },
  {
   "cell_type": "code",
   "execution_count": 362,
   "id": "c61b0f8a",
   "metadata": {},
   "outputs": [],
   "source": [
    "\"\"\"\n",
    "1°) Importação do pandas como pd para trabalhar com dados.\n",
    "\"\"\"\n",
    "import pandas as pd\n",
    "\"\"\"\n",
    "2°) Importação do numpy como np para trabalhar com matrizes e tudo mais.\n",
    "\"\"\"\n",
    "import numpy as np\n",
    "\"\"\"\n",
    "3°) Importação do matplotlib.pyplot como plt para fazer gráficos.\n",
    "\"\"\"\n",
    "import matplotlib.pyplot as plt\n",
    "\"\"\"\n",
    "4°) De matplotlib.ticker vamos importar o AutoMinorLocator e o MaxNLocator para trabalhar com os \"ticks\"\n",
    "    dos gráficos.\n",
    "\"\"\"\n",
    "import matplotlib.ticker as mticker\n",
    "from matplotlib.ticker import AutoMinorLocator, MaxNLocator\n",
    "\"\"\"\n",
    "5°) De matplotlib.font_manager vamos importar FontProperties para criar fontes de texto.\n",
    "\"\"\"\n",
    "from matplotlib.font_manager import FontProperties\n",
    "\"\"\"\n",
    "6°) Importação do seaborn para fazer gráficos\n",
    "\"\"\"\n",
    "import seaborn as sbn\n",
    "\"\"\"\n",
    "7°) Importação de pycaret.time_series para trabalhar com séries temporais\n",
    "\"\"\"\n",
    "from pycaret.time_series import *\n",
    "\"\"\"\n",
    "8°) Ignorar alguns warnings que não afetam o código\n",
    "\"\"\"\n",
    "import warnings\n",
    "warnings.filterwarnings(\"ignore\")"
   ]
  },
  {
   "cell_type": "markdown",
   "id": "cb166504",
   "metadata": {},
   "source": [
    "# $\\color{orange}{\\textbf{Importação dos dados}}$"
   ]
  },
  {
   "cell_type": "code",
   "execution_count": 363,
   "id": "0a408203",
   "metadata": {},
   "outputs": [],
   "source": [
    "\"\"\"\n",
    "1°) Importação do dataset que possui as perdas russas em termos de equipamento bélico\n",
    "\"\"\"\n",
    "losses_equipment = pd.read_csv(\"russia_losses_equipment_git.csv\")\n",
    "\"\"\"\n",
    "2°) Importação do dataset que possui as perdas russas em termos de tropas\n",
    "\"\"\"\n",
    "losses_personnel = pd.read_csv(\"russia_losses_personnel_git.csv\")"
   ]
  }
 ],
 "metadata": {
  "kernelspec": {
   "display_name": "Python 3",
   "language": "python",
   "name": "python3"
  },
  "language_info": {
   "codemirror_mode": {
    "name": "ipython",
    "version": 3
   },
   "file_extension": ".py",
   "mimetype": "text/x-python",
   "name": "python",
   "nbconvert_exporter": "python",
   "pygments_lexer": "ipython3",
   "version": "3.8.8"
  }
 },
 "nbformat": 4,
 "nbformat_minor": 5
}
